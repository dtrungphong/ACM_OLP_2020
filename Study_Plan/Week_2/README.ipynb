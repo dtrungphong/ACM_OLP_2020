{
 "cells": [
  {
   "cell_type": "markdown",
   "metadata": {},
   "source": [
    "# BUỔI 2"
   ]
  },
  {
   "cell_type": "markdown",
   "metadata": {},
   "source": [
    "## YÊU CẦU BUỔI HỌC\n",
    "\n",
    "- Độ phức tạp thuật toán: BigO\n",
    "- Tìm kiếm nhị phân\n",
    "- Sử dụng vector\n",
    "- Luyện tập trên trang web contest TLU và cses"
   ]
  },
  {
   "cell_type": "markdown",
   "metadata": {},
   "source": [
    "### Overview\n",
    "\n",
    "- Kỹ năng lập trình sử dụng vòng for, mảng, biến, câu điều kiện.\n",
    "- Thực hiện chạy đệ quy\n",
    "    - Nắm bắt được điều kiện dùng\n",
    "    - Kiểm soát đệ quy"
   ]
  },
  {
   "cell_type": "markdown",
   "metadata": {},
   "source": [
    "### Độ phức tạp thuật toán\n",
    "\n",
    "- Kiểm soát được thời gian thực hiện cho phép của bài toán\n",
    "- Một vòng lặp thực hiện từ 0 đến n ta sẽ coi độ phức tạp là O(n)\n",
    "- Với phép tính c=a+b tương đương với độ phức tạp là O(1)\n",
    "- Với việc xuất hiện hằng số ta sẽ loại bỏ hằng số đi. **Ví dụ:** O(4n) ~ O(n)\n",
    "- Dưới đây là bảng cho phép mức **n** đối với mỗi thuật toán\n",
    "![image]()"
   ]
  },
  {
   "cell_type": "markdown",
   "metadata": {},
   "source": [
    "### Vector\n",
    "\n",
    "- Thực hiện sử dụng khi ta không biết trước kích thước nhập vào của dãy số\n",
    "- Cách tổ chức vector tương tự như một linked list\n",
    "- Thời gian truy cập mỗi node của vector với độ phức tạp là O(n) so với O(1) của 1, tuy nhiên không đáng kể\n",
    "- Trong vector khá nhiều hàm hỗ trợ\n",
    "\n",
    "- [Link tham khảo](http://www.cplusplus.com/reference/vector/vector/)\n",
    "- [Link code]()"
   ]
  },
  {
   "cell_type": "markdown",
   "metadata": {},
   "source": [
    "### Tìm kiếm nhị phân\n",
    "- Độ phức tạp thuật toán: O(logn)\n",
    "- Dùng để tìm kiếm giá trị trong chuỗi giá trị có sắp xếp\n",
    "- Một số bài toán cụ thể\n",
    "\n",
    "- [Link code]()"
   ]
  },
  {
   "cell_type": "markdown",
   "metadata": {},
   "source": [
    "### Luyện tập\n",
    "- [Link Contest TLU Bài tập buổi 2]()\n",
    "- Phần [Introductory Problems](https://cses.fi/problemset/list/)\n",
    "- Bài đầu tiên phần [sorting and searching](https://cses.fi/problemset/task/1621)"
   ]
  },
  {
   "cell_type": "markdown",
   "metadata": {},
   "source": [
    "### Tổng kết\n",
    "- Lời giải sẽ được đăng vào buổi 3\n",
    "- Chuẩn bị tốt các kiến thức buổi ba yêu cầu\n",
    "\n",
    "\n",
    "## XIN CẢM ƠN"
   ]
  }
 ],
 "metadata": {
  "kernelspec": {
   "display_name": "Python 3",
   "language": "python",
   "name": "python3"
  },
  "language_info": {
   "codemirror_mode": {
    "name": "ipython",
    "version": 3
   },
   "file_extension": ".py",
   "mimetype": "text/x-python",
   "name": "python",
   "nbconvert_exporter": "python",
   "pygments_lexer": "ipython3",
   "version": "3.7.0"
  }
 },
 "nbformat": 4,
 "nbformat_minor": 2
}
