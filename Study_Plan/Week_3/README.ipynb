{
 "cells": [
  {
   "cell_type": "markdown",
   "metadata": {},
   "source": [
    "# Buổi 3"
   ]
  },
  {
   "cell_type": "markdown",
   "metadata": {},
   "source": [
    "## Mục tiêu\n",
    "- Có thể viết hàm tính số lớn (BigNumber)\n",
    "- CTDL: Set, Map\n",
    "- Luyện tập"
   ]
  },
  {
   "cell_type": "markdown",
   "metadata": {},
   "source": [
    "## Tính số nguyên lớn (BigNumber)\n",
    "- Vấn đề: \n",
    "    - Ta sẽ sử dụng C++ làm ngôn ngữ lập trình trong suốt quá trình\n",
    "    - Giá trị tối đa số nguyên ta có thể dùng xấp xỉ khoảng 10^21\n",
    "    - Trong một số bài toán yêu cầu phép tính lớn hơn giá trị tối đa của số nguyên trong C++\n",
    "- Các phép toán trong số nguyên lớn nhất:\n",
    "    - Phép cộng\n",
    "    - Phép trừ\n",
    "    - Phép nhân\n",
    "    - Phép chia\n",
    "- Phương pháp:\n",
    "    - Sử dụng chuỗi ký tự (string) để thực hiện các phép toán"
   ]
  },
  {
   "cell_type": "markdown",
   "metadata": {},
   "source": [
    "### Phép cộng"
   ]
  },
  {
   "cell_type": "markdown",
   "metadata": {},
   "source": [
    "### Phép trừ"
   ]
  },
  {
   "cell_type": "markdown",
   "metadata": {},
   "source": [
    "### Phép nhân"
   ]
  },
  {
   "cell_type": "markdown",
   "metadata": {},
   "source": [
    "### Phép chia"
   ]
  },
  {
   "cell_type": "markdown",
   "metadata": {},
   "source": [
    "## CẤU TRÚC DỮ LIỆU"
   ]
  },
  {
   "cell_type": "markdown",
   "metadata": {},
   "source": [
    "### Set"
   ]
  },
  {
   "cell_type": "markdown",
   "metadata": {},
   "source": [
    "### Map"
   ]
  },
  {
   "cell_type": "markdown",
   "metadata": {},
   "source": [
    "## Luyện Tập"
   ]
  },
  {
   "cell_type": "markdown",
   "metadata": {},
   "source": [
    "- Luyện tập cơ bản trên contest TLU\n",
    "- Luyện tập 5 bài phần **Sorting and Searching** trên [cses]()"
   ]
  },
  {
   "cell_type": "code",
   "execution_count": null,
   "metadata": {},
   "outputs": [],
   "source": []
  }
 ],
 "metadata": {
  "kernelspec": {
   "display_name": "Python 3",
   "language": "python",
   "name": "python3"
  },
  "language_info": {
   "codemirror_mode": {
    "name": "ipython",
    "version": 3
   },
   "file_extension": ".py",
   "mimetype": "text/x-python",
   "name": "python",
   "nbconvert_exporter": "python",
   "pygments_lexer": "ipython3",
   "version": "3.7.0"
  }
 },
 "nbformat": 4,
 "nbformat_minor": 2
}
