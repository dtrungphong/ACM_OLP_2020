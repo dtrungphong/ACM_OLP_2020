{
 "cells": [
  {
   "cell_type": "markdown",
   "metadata": {},
   "source": [
    "# Kế hoạch dạy K32 TLU"
   ]
  },
  {
   "cell_type": "markdown",
   "metadata": {},
   "source": [
    "## MỤC TIÊU"
   ]
  },
  {
   "cell_type": "markdown",
   "metadata": {},
   "source": [
    "- Ngôn ngữ sử dụng chính: C/C++\n",
    "- Sử dụng thông thạo các kỹ năng lập trình cơ bản\n",
    "- Trang bị đầy đủ kiến thức về cấu trúc dữ liệu và thuật toán\n",
    "- Cấu trúc dữ liệu:\n",
    "    - Sử dụng các cấu trúc có sẵn như vector, queue, stack,...\n",
    "    - Hiểu và sử dụng đệ quy thành thạo\n",
    "    - Cây\n",
    "    - Đồ thị\n",
    "- Thuật toán:\n",
    "    - Các thuật toán cơ bản như tìm kiếm nhị phân, sắp xếp, chia để trị,...\n",
    "    - Các thuật toán nâng cao như quy hoạch động,..\n",
    "    - Tập trung nhiều luyện tập về thuật toán quy hoạch động (dynamic programing)\n",
    "- Kết hợp được thuật toán và sử dụng các cấu trúc dữ liệu có sẵn"
   ]
  },
  {
   "cell_type": "markdown",
   "metadata": {},
   "source": [
    "- Trong mỗi tuần sẽ có các hướng dẫn và code bài giảng cụ thể"
   ]
  },
  {
   "cell_type": "markdown",
   "metadata": {},
   "source": [
    "### Buổi 1:\n",
    "- Giải thích về các cuộc thi và định nghĩa về cấu trúc dữ liệu lẫn thuật toán\n",
    "- Overview lại các kiến thức cơ bản\n",
    "- Luyện tập các kỹ năng lập trình cơ bản"
   ]
  },
  {
   "cell_type": "markdown",
   "metadata": {},
   "source": [
    "### Buổi 2:\n",
    "- Ôn tập lại các kỹ năng lập trình cơ bản\n",
    "- Ôn tập kỹ năng lập trình trên một số trang thông dụng\n",
    "- Tìm kiếm nhị phân\n",
    "- Vector\n",
    "- Luyện tập"
   ]
  },
  {
   "cell_type": "markdown",
   "metadata": {},
   "source": [
    "### Buổi 3:\n",
    "- Thực hiện các phép toán với số lớn\n",
    "- CTDL: Map, Set\n",
    "- Luyện tập"
   ]
  },
  {
   "cell_type": "markdown",
   "metadata": {},
   "source": [
    "### Buổi 4:\n",
    "- Tổng kết lại 3 buổi trước\n",
    "- Luyện tập trên cses"
   ]
  },
  {
   "cell_type": "markdown",
   "metadata": {},
   "source": [
    "### Buổi 5:\n",
    "- CTDL: Linked List, Stack, queue\n",
    "- Luyện tập về CTDL\n",
    "- Luyện tập trên cses"
   ]
  }
 ],
 "metadata": {
  "kernelspec": {
   "display_name": "Python 3",
   "language": "python",
   "name": "python3"
  },
  "language_info": {
   "codemirror_mode": {
    "name": "ipython",
    "version": 3
   },
   "file_extension": ".py",
   "mimetype": "text/x-python",
   "name": "python",
   "nbconvert_exporter": "python",
   "pygments_lexer": "ipython3",
   "version": "3.7.0"
  }
 },
 "nbformat": 4,
 "nbformat_minor": 2
}
